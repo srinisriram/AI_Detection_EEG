{
  "cells": [
    {
      "cell_type": "code",
      "execution_count": null,
      "metadata": {
        "cellView": "form",
        "id": "KtL2bx0pBifl"
      },
      "outputs": [],
      "source": [
        "#@title # Import Packages\n",
        "import pandas as pd\n",
        "import numpy as np\n",
        "import matplotlib.pyplot as plt\n",
        "import math\n",
        "from scipy import signal\n",
        "import numpy as np\n",
        "from scipy.signal import butter, lfilter, freqz, filtfilt\n",
        "import matplotlib.pyplot as plt\n",
        "from sklearn.neighbors import KNeighborsClassifier\n",
        "from sklearn.model_selection import train_test_split\n",
        "import tensorflow as tf\n",
        "from tensorflow.keras.models import Sequential\n",
        "from keras.layers import Dense, Activation, LSTM, Dropout, BatchNormalization, Bidirectional, Flatten\n",
        "from sklearn.preprocessing import MinMaxScaler\n",
        "from sklearn.metrics import mean_squared_error\n",
        "from tensorflow.keras.layers import Embedding\n",
        "from sklearn import preprocessing\n",
        "from tensorflow.keras import layers\n",
        "from tensorflow.keras.callbacks import EarlyStopping, ModelCheckpoint\n",
        "import sklearn\n",
        "import seaborn"
      ]
    },
    {
      "cell_type": "markdown",
      "metadata": {
        "id": "bI-dsU__BrlQ"
      },
      "source": [
        "# Data Preprocessing \n",
        "\n",
        "> Access only the FFT columns and make it in a dataset"
      ]
    },
    {
      "cell_type": "code",
      "execution_count": null,
      "metadata": {
        "id": "4qgVsJUDBopc"
      },
      "outputs": [],
      "source": [
        "df = pd.read_csv('emotions.csv')"
      ]
    },
    {
      "cell_type": "code",
      "execution_count": null,
      "metadata": {
        "colab": {
          "base_uri": "https://localhost:8080/"
        },
        "id": "gpQDn-wzHs58",
        "outputId": "a361ccd4-4d57-42a5-b20b-b50b8b70ca50"
      },
      "outputs": [
        {
          "data": {
            "text/plain": [
              "(2132, 2549)"
            ]
          },
          "execution_count": 7,
          "metadata": {},
          "output_type": "execute_result"
        }
      ],
      "source": [
        "df.shape"
      ]
    },
    {
      "cell_type": "code",
      "execution_count": null,
      "metadata": {
        "colab": {
          "base_uri": "https://localhost:8080/",
          "height": 505
        },
        "id": "vvY_c-C-HvLA",
        "outputId": "1db0c1ad-0ea8-430d-a8a9-dd519e3b78d1"
      },
      "outputs": [
        {
          "data": {
            "text/html": [
              "\n",
              "  <div id=\"df-21e2030e-c184-4e34-9667-c9f43184c2e3\">\n",
              "    <div class=\"colab-df-container\">\n",
              "      <div>\n",
              "<style scoped>\n",
              "    .dataframe tbody tr th:only-of-type {\n",
              "        vertical-align: middle;\n",
              "    }\n",
              "\n",
              "    .dataframe tbody tr th {\n",
              "        vertical-align: top;\n",
              "    }\n",
              "\n",
              "    .dataframe thead th {\n",
              "        text-align: right;\n",
              "    }\n",
              "</style>\n",
              "<table border=\"1\" class=\"dataframe\">\n",
              "  <thead>\n",
              "    <tr style=\"text-align: right;\">\n",
              "      <th></th>\n",
              "      <th># mean_0_a</th>\n",
              "      <th>mean_1_a</th>\n",
              "      <th>mean_2_a</th>\n",
              "      <th>mean_3_a</th>\n",
              "      <th>mean_4_a</th>\n",
              "      <th>mean_d_0_a</th>\n",
              "      <th>mean_d_1_a</th>\n",
              "      <th>mean_d_2_a</th>\n",
              "      <th>mean_d_3_a</th>\n",
              "      <th>mean_d_4_a</th>\n",
              "      <th>...</th>\n",
              "      <th>fft_741_b</th>\n",
              "      <th>fft_742_b</th>\n",
              "      <th>fft_743_b</th>\n",
              "      <th>fft_744_b</th>\n",
              "      <th>fft_745_b</th>\n",
              "      <th>fft_746_b</th>\n",
              "      <th>fft_747_b</th>\n",
              "      <th>fft_748_b</th>\n",
              "      <th>fft_749_b</th>\n",
              "      <th>label</th>\n",
              "    </tr>\n",
              "  </thead>\n",
              "  <tbody>\n",
              "    <tr>\n",
              "      <th>0</th>\n",
              "      <td>4.620</td>\n",
              "      <td>30.3</td>\n",
              "      <td>-356.0</td>\n",
              "      <td>15.60</td>\n",
              "      <td>26.3</td>\n",
              "      <td>1.070</td>\n",
              "      <td>0.411</td>\n",
              "      <td>-15.700</td>\n",
              "      <td>2.060</td>\n",
              "      <td>3.15</td>\n",
              "      <td>...</td>\n",
              "      <td>23.50</td>\n",
              "      <td>20.300</td>\n",
              "      <td>20.300</td>\n",
              "      <td>23.50</td>\n",
              "      <td>-215.0</td>\n",
              "      <td>280.00</td>\n",
              "      <td>-162.00</td>\n",
              "      <td>-162.00</td>\n",
              "      <td>280.00</td>\n",
              "      <td>NEGATIVE</td>\n",
              "    </tr>\n",
              "    <tr>\n",
              "      <th>1</th>\n",
              "      <td>28.800</td>\n",
              "      <td>33.1</td>\n",
              "      <td>32.0</td>\n",
              "      <td>25.80</td>\n",
              "      <td>22.8</td>\n",
              "      <td>6.550</td>\n",
              "      <td>1.680</td>\n",
              "      <td>2.880</td>\n",
              "      <td>3.830</td>\n",
              "      <td>-4.82</td>\n",
              "      <td>...</td>\n",
              "      <td>-23.30</td>\n",
              "      <td>-21.800</td>\n",
              "      <td>-21.800</td>\n",
              "      <td>-23.30</td>\n",
              "      <td>182.0</td>\n",
              "      <td>2.57</td>\n",
              "      <td>-31.60</td>\n",
              "      <td>-31.60</td>\n",
              "      <td>2.57</td>\n",
              "      <td>NEUTRAL</td>\n",
              "    </tr>\n",
              "    <tr>\n",
              "      <th>2</th>\n",
              "      <td>8.900</td>\n",
              "      <td>29.4</td>\n",
              "      <td>-416.0</td>\n",
              "      <td>16.70</td>\n",
              "      <td>23.7</td>\n",
              "      <td>79.900</td>\n",
              "      <td>3.360</td>\n",
              "      <td>90.200</td>\n",
              "      <td>89.900</td>\n",
              "      <td>2.03</td>\n",
              "      <td>...</td>\n",
              "      <td>462.00</td>\n",
              "      <td>-233.000</td>\n",
              "      <td>-233.000</td>\n",
              "      <td>462.00</td>\n",
              "      <td>-267.0</td>\n",
              "      <td>281.00</td>\n",
              "      <td>-148.00</td>\n",
              "      <td>-148.00</td>\n",
              "      <td>281.00</td>\n",
              "      <td>POSITIVE</td>\n",
              "    </tr>\n",
              "    <tr>\n",
              "      <th>3</th>\n",
              "      <td>14.900</td>\n",
              "      <td>31.6</td>\n",
              "      <td>-143.0</td>\n",
              "      <td>19.80</td>\n",
              "      <td>24.3</td>\n",
              "      <td>-0.584</td>\n",
              "      <td>-0.284</td>\n",
              "      <td>8.820</td>\n",
              "      <td>2.300</td>\n",
              "      <td>-1.97</td>\n",
              "      <td>...</td>\n",
              "      <td>299.00</td>\n",
              "      <td>-243.000</td>\n",
              "      <td>-243.000</td>\n",
              "      <td>299.00</td>\n",
              "      <td>132.0</td>\n",
              "      <td>-12.40</td>\n",
              "      <td>9.53</td>\n",
              "      <td>9.53</td>\n",
              "      <td>-12.40</td>\n",
              "      <td>POSITIVE</td>\n",
              "    </tr>\n",
              "    <tr>\n",
              "      <th>4</th>\n",
              "      <td>28.300</td>\n",
              "      <td>31.3</td>\n",
              "      <td>45.2</td>\n",
              "      <td>27.30</td>\n",
              "      <td>24.5</td>\n",
              "      <td>34.800</td>\n",
              "      <td>-5.790</td>\n",
              "      <td>3.060</td>\n",
              "      <td>41.400</td>\n",
              "      <td>5.52</td>\n",
              "      <td>...</td>\n",
              "      <td>12.00</td>\n",
              "      <td>38.100</td>\n",
              "      <td>38.100</td>\n",
              "      <td>12.00</td>\n",
              "      <td>119.0</td>\n",
              "      <td>-17.60</td>\n",
              "      <td>23.90</td>\n",
              "      <td>23.90</td>\n",
              "      <td>-17.60</td>\n",
              "      <td>NEUTRAL</td>\n",
              "    </tr>\n",
              "    <tr>\n",
              "      <th>...</th>\n",
              "      <td>...</td>\n",
              "      <td>...</td>\n",
              "      <td>...</td>\n",
              "      <td>...</td>\n",
              "      <td>...</td>\n",
              "      <td>...</td>\n",
              "      <td>...</td>\n",
              "      <td>...</td>\n",
              "      <td>...</td>\n",
              "      <td>...</td>\n",
              "      <td>...</td>\n",
              "      <td>...</td>\n",
              "      <td>...</td>\n",
              "      <td>...</td>\n",
              "      <td>...</td>\n",
              "      <td>...</td>\n",
              "      <td>...</td>\n",
              "      <td>...</td>\n",
              "      <td>...</td>\n",
              "      <td>...</td>\n",
              "      <td>...</td>\n",
              "    </tr>\n",
              "    <tr>\n",
              "      <th>2127</th>\n",
              "      <td>32.400</td>\n",
              "      <td>32.2</td>\n",
              "      <td>32.2</td>\n",
              "      <td>30.80</td>\n",
              "      <td>23.4</td>\n",
              "      <td>1.640</td>\n",
              "      <td>-2.030</td>\n",
              "      <td>0.647</td>\n",
              "      <td>-0.121</td>\n",
              "      <td>-1.10</td>\n",
              "      <td>...</td>\n",
              "      <td>-21.70</td>\n",
              "      <td>0.218</td>\n",
              "      <td>0.218</td>\n",
              "      <td>-21.70</td>\n",
              "      <td>95.2</td>\n",
              "      <td>-19.90</td>\n",
              "      <td>47.20</td>\n",
              "      <td>47.20</td>\n",
              "      <td>-19.90</td>\n",
              "      <td>NEUTRAL</td>\n",
              "    </tr>\n",
              "    <tr>\n",
              "      <th>2128</th>\n",
              "      <td>16.300</td>\n",
              "      <td>31.3</td>\n",
              "      <td>-284.0</td>\n",
              "      <td>14.30</td>\n",
              "      <td>23.9</td>\n",
              "      <td>4.200</td>\n",
              "      <td>1.090</td>\n",
              "      <td>4.460</td>\n",
              "      <td>4.720</td>\n",
              "      <td>6.63</td>\n",
              "      <td>...</td>\n",
              "      <td>594.00</td>\n",
              "      <td>-324.000</td>\n",
              "      <td>-324.000</td>\n",
              "      <td>594.00</td>\n",
              "      <td>-35.5</td>\n",
              "      <td>142.00</td>\n",
              "      <td>-59.80</td>\n",
              "      <td>-59.80</td>\n",
              "      <td>142.00</td>\n",
              "      <td>POSITIVE</td>\n",
              "    </tr>\n",
              "    <tr>\n",
              "      <th>2129</th>\n",
              "      <td>-0.547</td>\n",
              "      <td>28.3</td>\n",
              "      <td>-259.0</td>\n",
              "      <td>15.80</td>\n",
              "      <td>26.7</td>\n",
              "      <td>9.080</td>\n",
              "      <td>6.900</td>\n",
              "      <td>12.700</td>\n",
              "      <td>2.030</td>\n",
              "      <td>4.64</td>\n",
              "      <td>...</td>\n",
              "      <td>370.00</td>\n",
              "      <td>-160.000</td>\n",
              "      <td>-160.000</td>\n",
              "      <td>370.00</td>\n",
              "      <td>408.0</td>\n",
              "      <td>-169.00</td>\n",
              "      <td>-10.50</td>\n",
              "      <td>-10.50</td>\n",
              "      <td>-169.00</td>\n",
              "      <td>NEGATIVE</td>\n",
              "    </tr>\n",
              "    <tr>\n",
              "      <th>2130</th>\n",
              "      <td>16.800</td>\n",
              "      <td>19.9</td>\n",
              "      <td>-288.0</td>\n",
              "      <td>8.34</td>\n",
              "      <td>26.0</td>\n",
              "      <td>2.460</td>\n",
              "      <td>1.580</td>\n",
              "      <td>-16.000</td>\n",
              "      <td>1.690</td>\n",
              "      <td>4.74</td>\n",
              "      <td>...</td>\n",
              "      <td>124.00</td>\n",
              "      <td>-27.600</td>\n",
              "      <td>-27.600</td>\n",
              "      <td>124.00</td>\n",
              "      <td>-656.0</td>\n",
              "      <td>552.00</td>\n",
              "      <td>-271.00</td>\n",
              "      <td>-271.00</td>\n",
              "      <td>552.00</td>\n",
              "      <td>NEGATIVE</td>\n",
              "    </tr>\n",
              "    <tr>\n",
              "      <th>2131</th>\n",
              "      <td>27.000</td>\n",
              "      <td>32.0</td>\n",
              "      <td>31.8</td>\n",
              "      <td>25.00</td>\n",
              "      <td>28.9</td>\n",
              "      <td>4.990</td>\n",
              "      <td>1.950</td>\n",
              "      <td>6.210</td>\n",
              "      <td>3.490</td>\n",
              "      <td>-3.51</td>\n",
              "      <td>...</td>\n",
              "      <td>1.95</td>\n",
              "      <td>1.810</td>\n",
              "      <td>1.810</td>\n",
              "      <td>1.95</td>\n",
              "      <td>110.0</td>\n",
              "      <td>-6.71</td>\n",
              "      <td>22.80</td>\n",
              "      <td>22.80</td>\n",
              "      <td>-6.71</td>\n",
              "      <td>NEUTRAL</td>\n",
              "    </tr>\n",
              "  </tbody>\n",
              "</table>\n",
              "<p>2132 rows × 2549 columns</p>\n",
              "</div>\n",
              "      <button class=\"colab-df-convert\" onclick=\"convertToInteractive('df-21e2030e-c184-4e34-9667-c9f43184c2e3')\"\n",
              "              title=\"Convert this dataframe to an interactive table.\"\n",
              "              style=\"display:none;\">\n",
              "        \n",
              "  <svg xmlns=\"http://www.w3.org/2000/svg\" height=\"24px\"viewBox=\"0 0 24 24\"\n",
              "       width=\"24px\">\n",
              "    <path d=\"M0 0h24v24H0V0z\" fill=\"none\"/>\n",
              "    <path d=\"M18.56 5.44l.94 2.06.94-2.06 2.06-.94-2.06-.94-.94-2.06-.94 2.06-2.06.94zm-11 1L8.5 8.5l.94-2.06 2.06-.94-2.06-.94L8.5 2.5l-.94 2.06-2.06.94zm10 10l.94 2.06.94-2.06 2.06-.94-2.06-.94-.94-2.06-.94 2.06-2.06.94z\"/><path d=\"M17.41 7.96l-1.37-1.37c-.4-.4-.92-.59-1.43-.59-.52 0-1.04.2-1.43.59L10.3 9.45l-7.72 7.72c-.78.78-.78 2.05 0 2.83L4 21.41c.39.39.9.59 1.41.59.51 0 1.02-.2 1.41-.59l7.78-7.78 2.81-2.81c.8-.78.8-2.07 0-2.86zM5.41 20L4 18.59l7.72-7.72 1.47 1.35L5.41 20z\"/>\n",
              "  </svg>\n",
              "      </button>\n",
              "      \n",
              "  <style>\n",
              "    .colab-df-container {\n",
              "      display:flex;\n",
              "      flex-wrap:wrap;\n",
              "      gap: 12px;\n",
              "    }\n",
              "\n",
              "    .colab-df-convert {\n",
              "      background-color: #E8F0FE;\n",
              "      border: none;\n",
              "      border-radius: 50%;\n",
              "      cursor: pointer;\n",
              "      display: none;\n",
              "      fill: #1967D2;\n",
              "      height: 32px;\n",
              "      padding: 0 0 0 0;\n",
              "      width: 32px;\n",
              "    }\n",
              "\n",
              "    .colab-df-convert:hover {\n",
              "      background-color: #E2EBFA;\n",
              "      box-shadow: 0px 1px 2px rgba(60, 64, 67, 0.3), 0px 1px 3px 1px rgba(60, 64, 67, 0.15);\n",
              "      fill: #174EA6;\n",
              "    }\n",
              "\n",
              "    [theme=dark] .colab-df-convert {\n",
              "      background-color: #3B4455;\n",
              "      fill: #D2E3FC;\n",
              "    }\n",
              "\n",
              "    [theme=dark] .colab-df-convert:hover {\n",
              "      background-color: #434B5C;\n",
              "      box-shadow: 0px 1px 3px 1px rgba(0, 0, 0, 0.15);\n",
              "      filter: drop-shadow(0px 1px 2px rgba(0, 0, 0, 0.3));\n",
              "      fill: #FFFFFF;\n",
              "    }\n",
              "  </style>\n",
              "\n",
              "      <script>\n",
              "        const buttonEl =\n",
              "          document.querySelector('#df-21e2030e-c184-4e34-9667-c9f43184c2e3 button.colab-df-convert');\n",
              "        buttonEl.style.display =\n",
              "          google.colab.kernel.accessAllowed ? 'block' : 'none';\n",
              "\n",
              "        async function convertToInteractive(key) {\n",
              "          const element = document.querySelector('#df-21e2030e-c184-4e34-9667-c9f43184c2e3');\n",
              "          const dataTable =\n",
              "            await google.colab.kernel.invokeFunction('convertToInteractive',\n",
              "                                                     [key], {});\n",
              "          if (!dataTable) return;\n",
              "\n",
              "          const docLinkHtml = 'Like what you see? Visit the ' +\n",
              "            '<a target=\"_blank\" href=https://colab.research.google.com/notebooks/data_table.ipynb>data table notebook</a>'\n",
              "            + ' to learn more about interactive tables.';\n",
              "          element.innerHTML = '';\n",
              "          dataTable['output_type'] = 'display_data';\n",
              "          await google.colab.output.renderOutput(dataTable, element);\n",
              "          const docLink = document.createElement('div');\n",
              "          docLink.innerHTML = docLinkHtml;\n",
              "          element.appendChild(docLink);\n",
              "        }\n",
              "      </script>\n",
              "    </div>\n",
              "  </div>\n",
              "  "
            ],
            "text/plain": [
              "      # mean_0_a  mean_1_a  mean_2_a  mean_3_a  mean_4_a  mean_d_0_a  \\\n",
              "0          4.620      30.3    -356.0     15.60      26.3       1.070   \n",
              "1         28.800      33.1      32.0     25.80      22.8       6.550   \n",
              "2          8.900      29.4    -416.0     16.70      23.7      79.900   \n",
              "3         14.900      31.6    -143.0     19.80      24.3      -0.584   \n",
              "4         28.300      31.3      45.2     27.30      24.5      34.800   \n",
              "...          ...       ...       ...       ...       ...         ...   \n",
              "2127      32.400      32.2      32.2     30.80      23.4       1.640   \n",
              "2128      16.300      31.3    -284.0     14.30      23.9       4.200   \n",
              "2129      -0.547      28.3    -259.0     15.80      26.7       9.080   \n",
              "2130      16.800      19.9    -288.0      8.34      26.0       2.460   \n",
              "2131      27.000      32.0      31.8     25.00      28.9       4.990   \n",
              "\n",
              "      mean_d_1_a  mean_d_2_a  mean_d_3_a  mean_d_4_a  ...  fft_741_b  \\\n",
              "0          0.411     -15.700       2.060        3.15  ...      23.50   \n",
              "1          1.680       2.880       3.830       -4.82  ...     -23.30   \n",
              "2          3.360      90.200      89.900        2.03  ...     462.00   \n",
              "3         -0.284       8.820       2.300       -1.97  ...     299.00   \n",
              "4         -5.790       3.060      41.400        5.52  ...      12.00   \n",
              "...          ...         ...         ...         ...  ...        ...   \n",
              "2127      -2.030       0.647      -0.121       -1.10  ...     -21.70   \n",
              "2128       1.090       4.460       4.720        6.63  ...     594.00   \n",
              "2129       6.900      12.700       2.030        4.64  ...     370.00   \n",
              "2130       1.580     -16.000       1.690        4.74  ...     124.00   \n",
              "2131       1.950       6.210       3.490       -3.51  ...       1.95   \n",
              "\n",
              "      fft_742_b  fft_743_b  fft_744_b  fft_745_b  fft_746_b  fft_747_b  \\\n",
              "0        20.300     20.300      23.50     -215.0     280.00    -162.00   \n",
              "1       -21.800    -21.800     -23.30      182.0       2.57     -31.60   \n",
              "2      -233.000   -233.000     462.00     -267.0     281.00    -148.00   \n",
              "3      -243.000   -243.000     299.00      132.0     -12.40       9.53   \n",
              "4        38.100     38.100      12.00      119.0     -17.60      23.90   \n",
              "...         ...        ...        ...        ...        ...        ...   \n",
              "2127      0.218      0.218     -21.70       95.2     -19.90      47.20   \n",
              "2128   -324.000   -324.000     594.00      -35.5     142.00     -59.80   \n",
              "2129   -160.000   -160.000     370.00      408.0    -169.00     -10.50   \n",
              "2130    -27.600    -27.600     124.00     -656.0     552.00    -271.00   \n",
              "2131      1.810      1.810       1.95      110.0      -6.71      22.80   \n",
              "\n",
              "      fft_748_b  fft_749_b     label  \n",
              "0       -162.00     280.00  NEGATIVE  \n",
              "1        -31.60       2.57   NEUTRAL  \n",
              "2       -148.00     281.00  POSITIVE  \n",
              "3          9.53     -12.40  POSITIVE  \n",
              "4         23.90     -17.60   NEUTRAL  \n",
              "...         ...        ...       ...  \n",
              "2127      47.20     -19.90   NEUTRAL  \n",
              "2128     -59.80     142.00  POSITIVE  \n",
              "2129     -10.50    -169.00  NEGATIVE  \n",
              "2130    -271.00     552.00  NEGATIVE  \n",
              "2131      22.80      -6.71   NEUTRAL  \n",
              "\n",
              "[2132 rows x 2549 columns]"
            ]
          },
          "execution_count": 8,
          "metadata": {},
          "output_type": "execute_result"
        }
      ],
      "source": [
        "df"
      ]
    },
    {
      "cell_type": "code",
      "execution_count": null,
      "metadata": {
        "id": "CAOgpPmRmrE6"
      },
      "outputs": [],
      "source": [
        "le = preprocessing.LabelEncoder()\n",
        "df['label'] = le.fit_transform(df['label'])"
      ]
    },
    {
      "cell_type": "code",
      "execution_count": null,
      "metadata": {
        "id": "AqMX9ix6B1K2"
      },
      "outputs": [],
      "source": [
        "important_cols = df.columns[df.columns.str.contains('fft_')]\n",
        "subject_a = []\n",
        "subject_b = []"
      ]
    },
    {
      "cell_type": "code",
      "execution_count": null,
      "metadata": {
        "colab": {
          "base_uri": "https://localhost:8080/"
        },
        "id": "_EfyBgBWgzJX",
        "outputId": "eda98168-2dbc-4698-d1d2-581e1f4ba886"
      },
      "outputs": [
        {
          "data": {
            "text/plain": [
              "1500"
            ]
          },
          "execution_count": 11,
          "metadata": {},
          "output_type": "execute_result"
        }
      ],
      "source": [
        "len(important_cols)"
      ]
    },
    {
      "cell_type": "code",
      "execution_count": null,
      "metadata": {
        "id": "8sE7tiVAfEcg"
      },
      "outputs": [],
      "source": [
        "subject_a = list(filter(lambda x: x[-1] =='a', important_cols))\n",
        "subject_b = list(filter(lambda x: x.endswith('b'), important_cols))"
      ]
    },
    {
      "cell_type": "code",
      "execution_count": null,
      "metadata": {
        "colab": {
          "base_uri": "https://localhost:8080/"
        },
        "id": "lanW0f_Xf76I",
        "outputId": "73920963-0347-4c0b-ac6a-dc097dcfa0a5"
      },
      "outputs": [
        {
          "data": {
            "text/plain": [
              "750"
            ]
          },
          "execution_count": 13,
          "metadata": {},
          "output_type": "execute_result"
        }
      ],
      "source": [
        "len(subject_a)"
      ]
    },
    {
      "cell_type": "code",
      "execution_count": null,
      "metadata": {
        "colab": {
          "base_uri": "https://localhost:8080/"
        },
        "id": "HKXTaI78hieH",
        "outputId": "37400153-67cc-44ff-9685-43d3884d074d"
      },
      "outputs": [
        {
          "data": {
            "text/plain": [
              "list"
            ]
          },
          "execution_count": 14,
          "metadata": {},
          "output_type": "execute_result"
        }
      ],
      "source": [
        "type(subject_a)"
      ]
    },
    {
      "cell_type": "code",
      "execution_count": null,
      "metadata": {
        "colab": {
          "base_uri": "https://localhost:8080/"
        },
        "id": "swi_1e-5h1HB",
        "outputId": "a24a4eae-1b6d-48cc-86d6-a3f5ad351ca7"
      },
      "outputs": [
        {
          "data": {
            "text/plain": [
              "['fft_0_a', 'fft_1_a']"
            ]
          },
          "execution_count": 15,
          "metadata": {},
          "output_type": "execute_result"
        }
      ],
      "source": [
        "subject_a[0:2]"
      ]
    },
    {
      "cell_type": "code",
      "execution_count": null,
      "metadata": {
        "colab": {
          "base_uri": "https://localhost:8080/"
        },
        "id": "EuhG3b71h7BC",
        "outputId": "e458687b-48a3-4b61-bf69-7250a152ac25"
      },
      "outputs": [
        {
          "data": {
            "text/plain": [
              "0      -520.0\n",
              "1        66.2\n",
              "2       -90.8\n",
              "3       119.0\n",
              "4        59.0\n",
              "        ...  \n",
              "2127    171.0\n",
              "2128   -127.0\n",
              "2129   -440.0\n",
              "2130    153.0\n",
              "2131    122.0\n",
              "Name: fft_0_a, Length: 2132, dtype: float64"
            ]
          },
          "execution_count": 16,
          "metadata": {},
          "output_type": "execute_result"
        }
      ],
      "source": [
        "df['fft_0_a']"
      ]
    },
    {
      "cell_type": "code",
      "execution_count": null,
      "metadata": {
        "colab": {
          "base_uri": "https://localhost:8080/"
        },
        "id": "nrCTObAPgG2h",
        "outputId": "ec47649a-f6ad-476d-c8cb-75376bbac44f"
      },
      "outputs": [
        {
          "data": {
            "text/plain": [
              "750"
            ]
          },
          "execution_count": 17,
          "metadata": {},
          "output_type": "execute_result"
        }
      ],
      "source": [
        "len(subject_b)"
      ]
    },
    {
      "cell_type": "code",
      "execution_count": null,
      "metadata": {
        "id": "B1K3TBkJB-3a"
      },
      "outputs": [],
      "source": [
        "list_of_all_fourier_val_sub_a = df[subject_a].values.tolist()\n",
        "list_of_all_fourier_val_sub_b = df[subject_b].values.tolist()\n",
        "y_var_label = df['label'].values.tolist()"
      ]
    },
    {
      "cell_type": "code",
      "execution_count": null,
      "metadata": {
        "colab": {
          "base_uri": "https://localhost:8080/"
        },
        "id": "VUNwuOIViV1F",
        "outputId": "e795aff8-12e2-4cc6-8457-fb4b1b74a2db"
      },
      "outputs": [
        {
          "data": {
            "text/plain": [
              "2132"
            ]
          },
          "execution_count": 19,
          "metadata": {},
          "output_type": "execute_result"
        }
      ],
      "source": [
        "len(list_of_all_fourier_val_sub_b)"
      ]
    },
    {
      "cell_type": "code",
      "execution_count": null,
      "metadata": {
        "colab": {
          "base_uri": "https://localhost:8080/"
        },
        "id": "0U81jgFdhTvy",
        "outputId": "40e8ae8c-8c69-4bc6-bfe5-964c7506e5ba"
      },
      "outputs": [
        {
          "data": {
            "text/plain": [
              "2132"
            ]
          },
          "execution_count": 20,
          "metadata": {},
          "output_type": "execute_result"
        }
      ],
      "source": [
        "len(list_of_all_fourier_val_sub_a)"
      ]
    },
    {
      "cell_type": "code",
      "execution_count": null,
      "metadata": {
        "colab": {
          "base_uri": "https://localhost:8080/"
        },
        "id": "1ol3xeTPiaWe",
        "outputId": "47be1d6f-7d76-484c-8efd-a45f45e3f82f"
      },
      "outputs": [
        {
          "data": {
            "text/plain": [
              "2132"
            ]
          },
          "execution_count": 21,
          "metadata": {},
          "output_type": "execute_result"
        }
      ],
      "source": [
        "len(y_var_label)"
      ]
    },
    {
      "cell_type": "code",
      "execution_count": null,
      "metadata": {
        "id": "F_aNKeOLCEwD"
      },
      "outputs": [],
      "source": [
        "list_of_items_a = []\n",
        "list_of_items_b = []"
      ]
    },
    {
      "cell_type": "code",
      "execution_count": null,
      "metadata": {
        "id": "aMDLxQn3CGqI"
      },
      "outputs": [],
      "source": [
        "for index, row in enumerate(list_of_all_fourier_val_sub_a):\n",
        "  list_of_items_a.append({'fourier-transformed-vals': row,   'label': y_var_label[index]})"
      ]
    },
    {
      "cell_type": "code",
      "execution_count": null,
      "metadata": {
        "id": "4xjIWdkKCIs-"
      },
      "outputs": [],
      "source": [
        "for index, row in enumerate(list_of_all_fourier_val_sub_b):\n",
        "  list_of_items_b.append({'fourier-transformed-vals': row,   'label': y_var_label[index]})"
      ]
    },
    {
      "cell_type": "code",
      "execution_count": null,
      "metadata": {
        "colab": {
          "base_uri": "https://localhost:8080/"
        },
        "id": "OfpogNWPCKm5",
        "outputId": "e332ce67-4207-4d34-d902-f2e93255751c"
      },
      "outputs": [
        {
          "name": "stdout",
          "output_type": "stream",
          "text": [
            "2132\n",
            "2132\n"
          ]
        }
      ],
      "source": [
        "print(len(list_of_items_a))\n",
        "print(len(list_of_items_b))"
      ]
    },
    {
      "cell_type": "markdown",
      "metadata": {
        "id": "w1MgRBRSCSFj"
      },
      "source": [
        "Data Structure: \n",
        "\n",
        "Two lists for each subject's data, where each element of the list is a dictionary that has:\n",
        "1. X-variable: List of 750 fast fourier transformed values\n",
        "2. Y-variable: Label that indicates what emotion the set of 750 fourier values correspond to\n"
      ]
    },
    {
      "cell_type": "markdown",
      "metadata": {
        "id": "CcNItqoKA9mk"
      },
      "source": []
    },
    {
      "cell_type": "markdown",
      "metadata": {
        "id": "UwLLj7PwC3Xx"
      },
      "source": [
        "# Data Filtering\n",
        "\n",
        "> Filter with Butter Filter\n",
        "\n"
      ]
    },
    {
      "cell_type": "code",
      "execution_count": null,
      "metadata": {
        "id": "1GuHUcDFCzW2"
      },
      "outputs": [],
      "source": [
        "# Test on one row \n",
        "array = np.array(list_of_items_a[0]['fourier-transformed-vals'])\n",
        "array_squared = np.square(array)\n",
        "array_inverse = np.abs(np.fft.ifft(array_squared))"
      ]
    },
    {
      "cell_type": "code",
      "execution_count": null,
      "metadata": {
        "colab": {
          "base_uri": "https://localhost:8080/",
          "height": 282
        },
        "id": "8Qfk40dHfh3W",
        "outputId": "36fb530f-1f34-45b7-c199-e8f64b135bcb"
      },
      "outputs": [
        {
          "output_type": "execute_result",
          "data": {
            "text/plain": [
              "[<matplotlib.lines.Line2D at 0x7fdae4c16a90>]"
            ]
          },
          "metadata": {},
          "execution_count": 93
        },
        {
          "output_type": "display_data",
          "data": {
            "text/plain": [
              "<Figure size 432x288 with 1 Axes>"
            ],
            "image/png": "[encoded data removed]"
          },
          "metadata": {
            "needs_background": "light"
          }
        }
      ],
      "source": [
        "plt.plot(array, label = list_of_items_a[0]['label'])"
      ]
    },
    {
      "cell_type": "code",
      "execution_count": null,
      "metadata": {
        "colab": {
          "base_uri": "https://localhost:8080/",
          "height": 296
        },
        "id": "Zleom6gZTPxJ",
        "outputId": "b4646299-1752-4d46-e4e8-55461e98250d"
      },
      "outputs": [
        {
          "output_type": "execute_result",
          "data": {
            "text/plain": [
              "Text(0.5, 0, 'time')"
            ]
          },
          "metadata": {},
          "execution_count": 95
        },
        {
          "output_type": "display_data",
          "data": {
            "text/plain": [
              "<Figure size 432x288 with 1 Axes>"
            ],
            "image/png": "[encoded data removed]"
          },
          "metadata": {
            "needs_background": "light"
          }
        }
      ],
      "source": [
        "plt.plot(array_inverse, label = list_of_items_a[0]['label'])\n",
        "plt.ylabel('hertz squared')\n",
        "plt.xlabel('time')"
      ]
    },
    {
      "cell_type": "code",
      "execution_count": null,
      "metadata": {
        "id": "UARDKtqX0-04"
      },
      "outputs": [],
      "source": [
        "def normalize(filtered_value, max_val):\n",
        "  return filtered_value/max_val"
      ]
    },
    {
      "cell_type": "code",
      "execution_count": null,
      "metadata": {
        "colab": {
          "base_uri": "https://localhost:8080/"
        },
        "id": "qQhzO7D35P-b",
        "outputId": "8acbffd6-a6e4-4fb7-f306-267b50dfb123"
      },
      "outputs": [
        {
          "name": "stdout",
          "output_type": "stream",
          "text": [
            "749\n"
          ]
        }
      ],
      "source": [
        "b, a = butter(1, 0.5, 'lowpass')\n",
        "times = np.arange(len(array_inverse))/150\n",
        "filtered = filtfilt(b, a, array_inverse)\n",
        "filtered_array = np.array(filtered)\n",
        "filtered_array = filtered_array[1:]\n",
        "Normalize = np.vectorize(normalize)\n",
        "filtered_array = Normalize(filtered_array, np.max(filtered_array))\n",
        "times_array = np.arange(len(filtered_array))/150\n",
        "print(len(filtered_array))"
      ]
    },
    {
      "cell_type": "code",
      "execution_count": null,
      "metadata": {
        "colab": {
          "base_uri": "https://localhost:8080/",
          "height": 297
        },
        "id": "SNCuwrrF6Fzp",
        "outputId": "dc1a5336-7265-4313-df54-2f7f3e22cd83"
      },
      "outputs": [
        {
          "data": {
            "image/png": "[encoded data removed]",
            "text/plain": [
              "<Figure size 720x288 with 2 Axes>"
            ]
          },
          "metadata": {},
          "output_type": "display_data"
        }
      ],
      "source": [
        "plt.figure(figsize=(10, 4))\n",
        "\n",
        "plt.subplot(121)\n",
        "plt.plot(times, array_inverse)\n",
        "plt.title(\"EEG Raw Signal\")\n",
        "plt.margins(0, .05)\n",
        "\n",
        "# High val at 0\n",
        "# Too aggressive w filter (increase cutoff)\n",
        "# Normalize the data to make it less large (divide by total # of samples)\n",
        "\n",
        "plt.subplot(122)\n",
        "plt.plot(times_array, filtered_array)\n",
        "plt.title(\"Filtered EEG Signal\")\n",
        "plt.margins(0, .05)\n",
        "\n",
        "# Periodic signal: Periodic peak of 0.75 volts and 0.33 hz\n",
        "\n",
        "plt.tight_layout()\n",
        "plt.show()"
      ]
    },
    {
      "cell_type": "code",
      "execution_count": null,
      "metadata": {
        "id": "mJl5-hYm6Oke"
      },
      "outputs": [],
      "source": [
        "for i in range(len(list_of_items_a)):\n",
        "  array_inverse = np.abs(np.fft.ifft(np.square(np.array(list_of_items_a[i]['fourier-transformed-vals']))))\n",
        "  b, a = butter(1, 0.5, 'lowpass')\n",
        "  filtered_array = np.array(filtfilt(b, a, array_inverse))\n",
        "  filtered_array = filtered_array[1:]\n",
        "  Normalize = np.vectorize(normalize)\n",
        "  filtered_array = Normalize(filtered_array, np.max(filtered_array))\n",
        "  label = list_of_items_a[i]['label']\n",
        "  list_of_items_a[i].update({'fourier-transformed-vals': filtered_array,   'label': label})"
      ]
    },
    {
      "cell_type": "code",
      "execution_count": null,
      "metadata": {
        "id": "tRf3kB14_B53"
      },
      "outputs": [],
      "source": [
        "for i in range(len(list_of_items_b)):\n",
        "  array_inverse = np.abs(np.fft.ifft(np.square(np.array(list_of_items_b[i]['fourier-transformed-vals']))))\n",
        "  b, a = butter(1, 0.5, 'lowpass')\n",
        "  filtered_array = np.array(filtfilt(b, a, array_inverse))\n",
        "  filtered_array = filtered_array[1:]\n",
        "  Normalize = np.vectorize(normalize)\n",
        "  filtered_array = Normalize(filtered_array, np.max(filtered_array))\n",
        "  label = list_of_items_b[i]['label']\n",
        "  list_of_items_b[i].update({'fourier-transformed-vals': filtered_array,   'label': label})"
      ]
    },
    {
      "cell_type": "code",
      "execution_count": null,
      "metadata": {
        "colab": {
          "base_uri": "https://localhost:8080/"
        },
        "id": "RXPCPrtJkA6T",
        "outputId": "8bbfa402-9e86-4cbc-8877-e249db181d21"
      },
      "outputs": [
        {
          "data": {
            "text/plain": [
              "2132"
            ]
          },
          "execution_count": 34,
          "metadata": {},
          "output_type": "execute_result"
        }
      ],
      "source": [
        "len(list_of_items_a)"
      ]
    },
    {
      "cell_type": "code",
      "execution_count": null,
      "metadata": {
        "colab": {
          "base_uri": "https://localhost:8080/"
        },
        "id": "aayt5MSikH4F",
        "outputId": "f66aa966-8feb-405e-a425-49333e950efb"
      },
      "outputs": [
        {
          "data": {
            "text/plain": [
              "2"
            ]
          },
          "execution_count": 35,
          "metadata": {},
          "output_type": "execute_result"
        }
      ],
      "source": [
        "list_of_items_a[2]['label']"
      ]
    },
    {
      "cell_type": "code",
      "execution_count": null,
      "metadata": {
        "id": "tu8TJDZ9ADv4"
      },
      "outputs": [],
      "source": [
        "x_data = []\n",
        "y_data = []"
      ]
    },
    {
      "cell_type": "code",
      "execution_count": null,
      "metadata": {
        "id": "ZhYKB3hQ9V3n"
      },
      "outputs": [],
      "source": [
        "x_data = []\n",
        "for element in list_of_items_a:\n",
        "  x_data.append(element['fourier-transformed-vals'])\n",
        "y_data_= []\n",
        "for element in list_of_items_a:\n",
        "  y_data.append(element['label'])"
      ]
    },
    {
      "cell_type": "code",
      "execution_count": null,
      "metadata": {
        "id": "udt4ce2E_dE6"
      },
      "outputs": [],
      "source": [
        "for element in list_of_items_b:\n",
        "  x_data.append(element['fourier-transformed-vals'])\n",
        "for element in list_of_items_b:\n",
        "  y_data.append(element['label'])"
      ]
    },
    {
      "cell_type": "code",
      "execution_count": null,
      "metadata": {
        "colab": {
          "base_uri": "https://localhost:8080/"
        },
        "id": "Rx9WG5Ma9FPq",
        "outputId": "91b2f688-eefc-4086-b27b-ae20a8649739"
      },
      "outputs": [
        {
          "name": "stdout",
          "output_type": "stream",
          "text": [
            "4264\n",
            "4264\n"
          ]
        }
      ],
      "source": [
        "print(len(x_data))\n",
        "print(len(y_data))"
      ]
    },
    {
      "cell_type": "code",
      "execution_count": null,
      "metadata": {
        "id": "0xIsIPiF_5UX"
      },
      "outputs": [],
      "source": [
        "X_train, X_rem, y_train, y_rem = train_test_split(\n",
        "             x_data, y_data, test_size = 0.2, random_state=42)\n",
        "test_size = 0.5\n",
        "X_valid, X_test, y_valid, y_test = train_test_split(X_rem, y_rem, test_size=0.5)\n",
        "X_train = np.array(X_train)\n",
        "X_test = np.array(X_test)\n",
        "y_train = np.array(y_train)\n",
        "y_test = np.array(y_test)\n",
        "X_valid = np.array(X_valid)\n",
        "y_valid = np.array(y_valid)"
      ]
    },
    {
      "cell_type": "code",
      "execution_count": null,
      "metadata": {
        "colab": {
          "base_uri": "https://localhost:8080/"
        },
        "id": "yyGu7aXdlaF8",
        "outputId": "582471c5-10cc-481b-8634-71493e5af5c1"
      },
      "outputs": [
        {
          "data": {
            "text/plain": [
              "(3411, 749)"
            ]
          },
          "execution_count": 41,
          "metadata": {},
          "output_type": "execute_result"
        }
      ],
      "source": [
        "X_train.shape"
      ]
    },
    {
      "cell_type": "code",
      "execution_count": null,
      "metadata": {
        "colab": {
          "base_uri": "https://localhost:8080/"
        },
        "id": "MM3sSMqLlffF",
        "outputId": "53ddd078-14da-4c17-b81e-cae35145a5a1"
      },
      "outputs": [
        {
          "data": {
            "text/plain": [
              "(427, 749)"
            ]
          },
          "execution_count": 42,
          "metadata": {},
          "output_type": "execute_result"
        }
      ],
      "source": [
        "X_test.shape"
      ]
    },
    {
      "cell_type": "code",
      "execution_count": null,
      "metadata": {
        "colab": {
          "base_uri": "https://localhost:8080/"
        },
        "id": "_U8edAJBllbR",
        "outputId": "c97a63bf-f785-4e3e-8cb9-db576f3e487f"
      },
      "outputs": [
        {
          "data": {
            "text/plain": [
              "(3411,)"
            ]
          },
          "execution_count": 43,
          "metadata": {},
          "output_type": "execute_result"
        }
      ],
      "source": [
        "y_train.shape"
      ]
    },
    {
      "cell_type": "code",
      "execution_count": null,
      "metadata": {
        "colab": {
          "base_uri": "https://localhost:8080/"
        },
        "id": "1IpIJwgElrPQ",
        "outputId": "4adb7e68-8025-495c-8154-bd81fb2433b8"
      },
      "outputs": [
        {
          "data": {
            "text/plain": [
              "(427,)"
            ]
          },
          "execution_count": 44,
          "metadata": {},
          "output_type": "execute_result"
        }
      ],
      "source": [
        "y_test.shape"
      ]
    },
    {
      "cell_type": "code",
      "execution_count": null,
      "metadata": {
        "colab": {
          "base_uri": "https://localhost:8080/"
        },
        "id": "D69GHwGilWk4",
        "outputId": "5b66d8ea-9e0a-4b9f-b1c9-3da49a16716a"
      },
      "outputs": [
        {
          "name": "stdout",
          "output_type": "stream",
          "text": [
            "Train data dimensions: (3411, 749), (3411,)\n",
            "Test data dimensions: (427, 749), (427,)\n",
            "Valid data dimensions: (426, 749), (426,)\n"
          ]
        }
      ],
      "source": [
        "#X_train = X_train.reshape((X_train.shape[0], X_train.shape[1], 1))\n",
        "#X_test = X_test.reshape((X_test.shape[0], X_test.shape[1], 1))\n",
        "print(f'Train data dimensions: {X_train.shape}, {y_train.shape}')\n",
        "print(f'Test data dimensions: {X_test.shape}, {y_test.shape}')\n",
        "print(f'Valid data dimensions: {X_valid.shape}, {y_valid.shape}')"
      ]
    },
    {
      "cell_type": "markdown",
      "metadata": {
        "id": "Mnpz7SEokyFC"
      },
      "source": [
        "# Model Training\n",
        "\n",
        "> Experiment with different models"
      ]
    },
    {
      "cell_type": "code",
      "execution_count": null,
      "metadata": {
        "colab": {
          "base_uri": "https://localhost:8080/"
        },
        "id": "lSfqII3DAY94",
        "outputId": "d49fdbbe-6621-4356-d9f0-48926f15acf1"
      },
      "outputs": [
        {
          "data": {
            "text/plain": [
              "0.9812646370023419"
            ]
          },
          "execution_count": 47,
          "metadata": {},
          "output_type": "execute_result"
        }
      ],
      "source": [
        "# Preliminary test with KNN model \n",
        "\n",
        "knn = KNeighborsClassifier(n_neighbors=5)\n",
        "knn.fit(X_train,y_train)\n",
        "knn.score(X_test,y_test)"
      ]
    },
    {
      "cell_type": "code",
      "execution_count": null,
      "metadata": {
        "id": "IqTsOJVCywbH"
      },
      "outputs": [],
      "source": [
        "# Apply dummies to the y values to make it 3-dimensional. Create 3-dimensional dummy array for predictor variable to pass into model.\n",
        "y_train = pd.get_dummies(y_train)"
      ]
    },
    {
      "cell_type": "code",
      "execution_count": null,
      "metadata": {
        "colab": {
          "base_uri": "https://localhost:8080/"
        },
        "id": "fR_sSoCiy0B-",
        "outputId": "07eb5a5b-7670-49ae-98c8-65e92b2d68e9"
      },
      "outputs": [
        {
          "data": {
            "text/plain": [
              "(3411, 3)"
            ]
          },
          "execution_count": 67,
          "metadata": {},
          "output_type": "execute_result"
        }
      ],
      "source": [
        "y_train.shape"
      ]
    },
    {
      "cell_type": "code",
      "execution_count": null,
      "metadata": {
        "id": "slu8il7Ny3lj"
      },
      "outputs": [],
      "source": [
        "y_test = pd.get_dummies(y_test)"
      ]
    },
    {
      "cell_type": "code",
      "execution_count": null,
      "metadata": {
        "colab": {
          "base_uri": "https://localhost:8080/"
        },
        "id": "DF1_s76R4gTn",
        "outputId": "2dd94cee-a43f-445d-a4f5-f7711b5bdd56"
      },
      "outputs": [
        {
          "data": {
            "text/plain": [
              "(427, 3)"
            ]
          },
          "execution_count": 69,
          "metadata": {},
          "output_type": "execute_result"
        }
      ],
      "source": [
        "y_test.shape"
      ]
    },
    {
      "cell_type": "code",
      "execution_count": null,
      "metadata": {
        "id": "KoHWaw5xaqUC"
      },
      "outputs": [],
      "source": [
        "y_valid = pd.get_dummies(y_valid)"
      ]
    },
    {
      "cell_type": "code",
      "execution_count": null,
      "metadata": {
        "colab": {
          "base_uri": "https://localhost:8080/"
        },
        "id": "cvkMrOTOawN7",
        "outputId": "885a2deb-b680-4ad9-bc2b-3c86a62f0577"
      },
      "outputs": [
        {
          "data": {
            "text/plain": [
              "(426, 3)"
            ]
          },
          "execution_count": 71,
          "metadata": {},
          "output_type": "execute_result"
        }
      ],
      "source": [
        "y_valid.shape"
      ]
    },
    {
      "cell_type": "code",
      "execution_count": null,
      "metadata": {
        "colab": {
          "base_uri": "https://localhost:8080/"
        },
        "id": "DcfwHPm8xnir",
        "outputId": "f0662514-4456-4bb0-f1bb-445952317dbe"
      },
      "outputs": [
        {
          "name": "stdout",
          "output_type": "stream",
          "text": [
            "Model: \"model_2\"\n",
            "_________________________________________________________________\n",
            " Layer (type)                Output Shape              Param #   \n",
            "=================================================================\n",
            " input_3 (InputLayer)        [(None, 749, 1)]          0         \n",
            "                                                                 \n",
            " gru_2 (GRU)                 (None, 749, 256)          198912    \n",
            "                                                                 \n",
            " flatten_2 (Flatten)         (None, 191744)            0         \n",
            "                                                                 \n",
            " dense_2 (Dense)             (None, 3)                 575235    \n",
            "                                                                 \n",
            "=================================================================\n",
            "Total params: 774,147\n",
            "Trainable params: 774,147\n",
            "Non-trainable params: 0\n",
            "_________________________________________________________________\n"
          ]
        }
      ],
      "source": [
        "#Define GRU model architecture:\n",
        "# Find more about it here: https://keras.io/api/layers/recurrent_layers/gru/\n",
        "\n",
        "inputs = tf.keras.Input(shape=(X_train.shape[1],1))\n",
        "\n",
        "gru = tf.keras.layers.GRU(256, return_sequences=True)(inputs)\n",
        "flat = Flatten()(gru)\n",
        "outputs = Dense(3, activation='softmax')(flat)\n",
        "\n",
        "model = tf.keras.Model(inputs, outputs)\n",
        "\n",
        "model.summary()"
      ]
    },
    {
      "cell_type": "code",
      "execution_count": null,
      "metadata": {
        "colab": {
          "base_uri": "https://localhost:8080/",
          "height": 369
        },
        "id": "FgV-h6Bgxwk5",
        "outputId": "3ea07d76-a14d-4003-a93b-b8202d35e094"
      },
      "outputs": [
        {
          "data": {
            "image/png": "[encoded data removed]",
            "text/plain": [
              "<IPython.core.display.Image object>"
            ]
          },
          "execution_count": 78,
          "metadata": {},
          "output_type": "execute_result"
        }
      ],
      "source": [
        "tf.keras.utils.plot_model(model)"
      ]
    },
    {
      "cell_type": "code",
      "execution_count": null,
      "metadata": {
        "id": "rlIdROJzx7Nj"
      },
      "outputs": [],
      "source": [
        "def train_model(model,x_train, y_train,x_test,y_test, save_to, epoch = 2):\n",
        "\n",
        "        opt_adam = tf.keras.optimizers.Adam(learning_rate=0.001)\n",
        "\n",
        "        es = EarlyStopping(monitor='val_loss', mode='min', verbose=1, patience=10)\n",
        "        mc = ModelCheckpoint(save_to + 'EEG_Emotion_Predictor.h5', monitor='val_accuracy', mode='max', verbose=1, save_best_only=True)\n",
        "        lr_schedule = tf.keras.callbacks.LearningRateScheduler(lambda epoch: 0.001 * np.exp(-epoch / 10.))\n",
        "        \n",
        "        model.compile(optimizer=opt_adam,\n",
        "                  loss=['categorical_crossentropy'],\n",
        "                  metrics=['accuracy'])\n",
        "        \n",
        "        history = model.fit(x_train,y_train,\n",
        "                        batch_size=32,\n",
        "                        epochs=epoch,\n",
        "                        validation_data=(x_test,y_test),\n",
        "                        callbacks=[es,mc,lr_schedule])\n",
        "        \n",
        "        return model,history"
      ]
    },
    {
      "cell_type": "code",
      "execution_count": null,
      "metadata": {
        "colab": {
          "background_save": true,
          "base_uri": "https://localhost:8080/"
        },
        "id": "UEmiqoG7x_WR",
        "outputId": "9a532e28-d291-4e37-fbc2-cb5724577ee2"
      },
      "outputs": [
        {
          "name": "stdout",
          "output_type": "stream",
          "text": [
            "Epoch 1/50\n",
            "107/107 [==============================] - ETA: 0s - loss: 0.3324 - accuracy: 0.8739\n",
            "Epoch 1: val_accuracy improved from -inf to 0.90376, saving model to ./EEG_Emotion_Predictor.h5\n",
            "107/107 [==============================] - 188s 2s/step - loss: 0.3324 - accuracy: 0.8739 - val_loss: 0.2397 - val_accuracy: 0.9038 - lr: 0.0010\n",
            "Epoch 2/50\n",
            "107/107 [==============================] - ETA: 0s - loss: 0.2083 - accuracy: 0.9135\n",
            "Epoch 2: val_accuracy improved from 0.90376 to 0.92254, saving model to ./EEG_Emotion_Predictor.h5\n",
            "107/107 [==============================] - 180s 2s/step - loss: 0.2083 - accuracy: 0.9135 - val_loss: 0.1751 - val_accuracy: 0.9225 - lr: 9.0484e-04\n",
            "Epoch 3/50\n",
            "107/107 [==============================] - ETA: 0s - loss: 0.1857 - accuracy: 0.9226\n",
            "Epoch 3: val_accuracy did not improve from 0.92254\n",
            "107/107 [==============================] - 208s 2s/step - loss: 0.1857 - accuracy: 0.9226 - val_loss: 0.1741 - val_accuracy: 0.9202 - lr: 8.1873e-04\n",
            "Epoch 4/50\n",
            "107/107 [==============================] - ETA: 0s - loss: 0.1715 - accuracy: 0.9232\n",
            "Epoch 4: val_accuracy did not improve from 0.92254\n",
            "107/107 [==============================] - 188s 2s/step - loss: 0.1715 - accuracy: 0.9232 - val_loss: 0.1778 - val_accuracy: 0.9202 - lr: 7.4082e-04\n",
            "Epoch 5/50\n",
            "107/107 [==============================] - ETA: 0s - loss: 0.1539 - accuracy: 0.9358\n",
            "Epoch 5: val_accuracy improved from 0.92254 to 0.93662, saving model to ./EEG_Emotion_Predictor.h5\n",
            "107/107 [==============================] - 180s 2s/step - loss: 0.1539 - accuracy: 0.9358 - val_loss: 0.1400 - val_accuracy: 0.9366 - lr: 6.7032e-04\n",
            "Epoch 6/50\n",
            "107/107 [==============================] - ETA: 0s - loss: 0.1428 - accuracy: 0.9402\n",
            "Epoch 6: val_accuracy improved from 0.93662 to 0.94131, saving model to ./EEG_Emotion_Predictor.h5\n",
            "107/107 [==============================] - 184s 2s/step - loss: 0.1428 - accuracy: 0.9402 - val_loss: 0.1257 - val_accuracy: 0.9413 - lr: 6.0653e-04\n",
            "Epoch 7/50\n",
            "107/107 [==============================] - ETA: 0s - loss: 0.1375 - accuracy: 0.9387\n",
            "Epoch 7: val_accuracy improved from 0.94131 to 0.94601, saving model to ./EEG_Emotion_Predictor.h5\n",
            "107/107 [==============================] - 184s 2s/step - loss: 0.1375 - accuracy: 0.9387 - val_loss: 0.1394 - val_accuracy: 0.9460 - lr: 5.4881e-04\n",
            "Epoch 8/50\n",
            "107/107 [==============================] - ETA: 0s - loss: 0.1245 - accuracy: 0.9487\n",
            "Epoch 8: val_accuracy did not improve from 0.94601\n",
            "107/107 [==============================] - 184s 2s/step - loss: 0.1245 - accuracy: 0.9487 - val_loss: 0.1217 - val_accuracy: 0.9460 - lr: 4.9659e-04\n",
            "Epoch 9/50\n",
            "107/107 [==============================] - ETA: 0s - loss: 0.1188 - accuracy: 0.9490\n",
            "Epoch 9: val_accuracy did not improve from 0.94601\n",
            "107/107 [==============================] - 181s 2s/step - loss: 0.1188 - accuracy: 0.9490 - val_loss: 0.1240 - val_accuracy: 0.9413 - lr: 4.4933e-04\n",
            "Epoch 10/50\n",
            "107/107 [==============================] - ETA: 0s - loss: 0.1239 - accuracy: 0.9481\n",
            "Epoch 10: val_accuracy improved from 0.94601 to 0.94836, saving model to ./EEG_Emotion_Predictor.h5\n",
            "107/107 [==============================] - 178s 2s/step - loss: 0.1239 - accuracy: 0.9481 - val_loss: 0.1155 - val_accuracy: 0.9484 - lr: 4.0657e-04\n",
            "Epoch 11/50\n",
            "107/107 [==============================] - ETA: 0s - loss: 0.1040 - accuracy: 0.9610\n",
            "Epoch 11: val_accuracy did not improve from 0.94836\n",
            "107/107 [==============================] - 176s 2s/step - loss: 0.1040 - accuracy: 0.9610 - val_loss: 0.1039 - val_accuracy: 0.9484 - lr: 3.6788e-04\n",
            "Epoch 12/50\n",
            "107/107 [==============================] - ETA: 0s - loss: 0.1019 - accuracy: 0.9584\n",
            "Epoch 12: val_accuracy did not improve from 0.94836\n",
            "107/107 [==============================] - 176s 2s/step - loss: 0.1019 - accuracy: 0.9584 - val_loss: 0.1125 - val_accuracy: 0.9437 - lr: 3.3287e-04\n",
            "Epoch 13/50\n",
            "107/107 [==============================] - ETA: 0s - loss: 0.0929 - accuracy: 0.9642\n",
            "Epoch 13: val_accuracy did not improve from 0.94836\n",
            "107/107 [==============================] - 175s 2s/step - loss: 0.0929 - accuracy: 0.9642 - val_loss: 0.1095 - val_accuracy: 0.9437 - lr: 3.0119e-04\n",
            "Epoch 14/50\n",
            "107/107 [==============================] - ETA: 0s - loss: 0.0860 - accuracy: 0.9651\n",
            "Epoch 14: val_accuracy improved from 0.94836 to 0.95540, saving model to ./EEG_Emotion_Predictor.h5\n",
            "107/107 [==============================] - 176s 2s/step - loss: 0.0860 - accuracy: 0.9651 - val_loss: 0.0956 - val_accuracy: 0.9554 - lr: 2.7253e-04\n",
            "Epoch 15/50\n",
            "107/107 [==============================] - ETA: 0s - loss: 0.0820 - accuracy: 0.9689\n",
            "Epoch 15: val_accuracy improved from 0.95540 to 0.95775, saving model to ./EEG_Emotion_Predictor.h5\n",
            "107/107 [==============================] - 177s 2s/step - loss: 0.0820 - accuracy: 0.9689 - val_loss: 0.0896 - val_accuracy: 0.9577 - lr: 2.4660e-04\n",
            "Epoch 16/50\n",
            "107/107 [==============================] - ETA: 0s - loss: 0.0728 - accuracy: 0.9713\n",
            "Epoch 16: val_accuracy did not improve from 0.95775\n",
            "107/107 [==============================] - 177s 2s/step - loss: 0.0728 - accuracy: 0.9713 - val_loss: 0.0944 - val_accuracy: 0.9577 - lr: 2.2313e-04\n",
            "Epoch 17/50\n",
            "107/107 [==============================] - ETA: 0s - loss: 0.0701 - accuracy: 0.9727\n",
            "Epoch 17: val_accuracy did not improve from 0.95775\n",
            "107/107 [==============================] - 178s 2s/step - loss: 0.0701 - accuracy: 0.9727 - val_loss: 0.0937 - val_accuracy: 0.9577 - lr: 2.0190e-04\n",
            "Epoch 18/50\n",
            "107/107 [==============================] - ETA: 0s - loss: 0.0660 - accuracy: 0.9757\n",
            "Epoch 18: val_accuracy improved from 0.95775 to 0.96009, saving model to ./EEG_Emotion_Predictor.h5\n",
            "107/107 [==============================] - 177s 2s/step - loss: 0.0660 - accuracy: 0.9757 - val_loss: 0.0922 - val_accuracy: 0.9601 - lr: 1.8268e-04\n",
            "Epoch 19/50\n",
            "107/107 [==============================] - ETA: 0s - loss: 0.0587 - accuracy: 0.9789\n",
            "Epoch 19: val_accuracy improved from 0.96009 to 0.96244, saving model to ./EEG_Emotion_Predictor.h5\n",
            "107/107 [==============================] - 176s 2s/step - loss: 0.0587 - accuracy: 0.9789 - val_loss: 0.0903 - val_accuracy: 0.9624 - lr: 1.6530e-04\n",
            "Epoch 20/50\n",
            "107/107 [==============================] - ETA: 0s - loss: 0.0575 - accuracy: 0.9783\n",
            "Epoch 20: val_accuracy did not improve from 0.96244\n",
            "107/107 [==============================] - 177s 2s/step - loss: 0.0575 - accuracy: 0.9783 - val_loss: 0.0959 - val_accuracy: 0.9601 - lr: 1.4957e-04\n",
            "Epoch 21/50\n",
            "107/107 [==============================] - ETA: 0s - loss: 0.0511 - accuracy: 0.9807\n",
            "Epoch 21: val_accuracy did not improve from 0.96244\n",
            "107/107 [==============================] - 177s 2s/step - loss: 0.0511 - accuracy: 0.9807 - val_loss: 0.1039 - val_accuracy: 0.9577 - lr: 1.3534e-04\n",
            "Epoch 22/50\n",
            "107/107 [==============================] - ETA: 0s - loss: 0.0492 - accuracy: 0.9859\n",
            "Epoch 22: val_accuracy improved from 0.96244 to 0.96479, saving model to ./EEG_Emotion_Predictor.h5\n",
            "107/107 [==============================] - 177s 2s/step - loss: 0.0492 - accuracy: 0.9859 - val_loss: 0.0920 - val_accuracy: 0.9648 - lr: 1.2246e-04\n",
            "Epoch 23/50\n",
            "107/107 [==============================] - ETA: 0s - loss: 0.0470 - accuracy: 0.9853\n",
            "Epoch 23: val_accuracy did not improve from 0.96479\n",
            "107/107 [==============================] - 178s 2s/step - loss: 0.0470 - accuracy: 0.9853 - val_loss: 0.0908 - val_accuracy: 0.9624 - lr: 1.1080e-04\n",
            "Epoch 24/50\n",
            "107/107 [==============================] - ETA: 0s - loss: 0.0441 - accuracy: 0.9868\n",
            "Epoch 24: val_accuracy did not improve from 0.96479\n",
            "107/107 [==============================] - 179s 2s/step - loss: 0.0441 - accuracy: 0.9868 - val_loss: 0.0923 - val_accuracy: 0.9648 - lr: 1.0026e-04\n",
            "Epoch 25/50\n",
            "107/107 [==============================] - ETA: 0s - loss: 0.0421 - accuracy: 0.9862\n",
            "Epoch 25: val_accuracy improved from 0.96479 to 0.96948, saving model to ./EEG_Emotion_Predictor.h5\n",
            "107/107 [==============================] - 182s 2s/step - loss: 0.0421 - accuracy: 0.9862 - val_loss: 0.0854 - val_accuracy: 0.9695 - lr: 9.0718e-05\n",
            "Epoch 26/50\n",
            "107/107 [==============================] - ETA: 0s - loss: 0.0402 - accuracy: 0.9874\n",
            "Epoch 26: val_accuracy did not improve from 0.96948\n",
            "107/107 [==============================] - 181s 2s/step - loss: 0.0402 - accuracy: 0.9874 - val_loss: 0.0943 - val_accuracy: 0.9601 - lr: 8.2085e-05\n",
            "Epoch 27/50\n",
            "107/107 [==============================] - ETA: 0s - loss: 0.0379 - accuracy: 0.9883\n",
            "Epoch 27: val_accuracy did not improve from 0.96948\n",
            "107/107 [==============================] - 182s 2s/step - loss: 0.0379 - accuracy: 0.9883 - val_loss: 0.0887 - val_accuracy: 0.9671 - lr: 7.4274e-05\n",
            "Epoch 28/50\n",
            "107/107 [==============================] - ETA: 0s - loss: 0.0385 - accuracy: 0.9894\n",
            "Epoch 28: val_accuracy did not improve from 0.96948\n",
            "107/107 [==============================] - 180s 2s/step - loss: 0.0385 - accuracy: 0.9894 - val_loss: 0.0967 - val_accuracy: 0.9624 - lr: 6.7206e-05\n",
            "Epoch 29/50\n",
            "107/107 [==============================] - ETA: 0s - loss: 0.0357 - accuracy: 0.9897\n",
            "Epoch 29: val_accuracy did not improve from 0.96948\n",
            "107/107 [==============================] - 180s 2s/step - loss: 0.0357 - accuracy: 0.9897 - val_loss: 0.0962 - val_accuracy: 0.9577 - lr: 6.0810e-05\n",
            "Epoch 30/50\n",
            "107/107 [==============================] - ETA: 0s - loss: 0.0357 - accuracy: 0.9897\n",
            "Epoch 30: val_accuracy did not improve from 0.96948\n",
            "107/107 [==============================] - 177s 2s/step - loss: 0.0357 - accuracy: 0.9897 - val_loss: 0.0903 - val_accuracy: 0.9648 - lr: 5.5023e-05\n",
            "Epoch 31/50\n",
            "107/107 [==============================] - ETA: 0s - loss: 0.0347 - accuracy: 0.9912\n",
            "Epoch 31: val_accuracy did not improve from 0.96948\n",
            "107/107 [==============================] - 177s 2s/step - loss: 0.0347 - accuracy: 0.9912 - val_loss: 0.0905 - val_accuracy: 0.9577 - lr: 4.9787e-05\n",
            "Epoch 32/50\n",
            "107/107 [==============================] - ETA: 0s - loss: 0.0339 - accuracy: 0.9909\n",
            "Epoch 32: val_accuracy did not improve from 0.96948\n",
            "107/107 [==============================] - 178s 2s/step - loss: 0.0339 - accuracy: 0.9909 - val_loss: 0.0925 - val_accuracy: 0.9624 - lr: 4.5049e-05\n",
            "Epoch 33/50\n",
            "107/107 [==============================] - ETA: 0s - loss: 0.0327 - accuracy: 0.9915\n",
            "Epoch 33: val_accuracy did not improve from 0.96948\n",
            "107/107 [==============================] - 176s 2s/step - loss: 0.0327 - accuracy: 0.9915 - val_loss: 0.0854 - val_accuracy: 0.9695 - lr: 4.0762e-05\n",
            "Epoch 34/50\n",
            "107/107 [==============================] - ETA: 0s - loss: 0.0321 - accuracy: 0.9909\n",
            "Epoch 34: val_accuracy did not improve from 0.96948\n",
            "107/107 [==============================] - 175s 2s/step - loss: 0.0321 - accuracy: 0.9909 - val_loss: 0.0869 - val_accuracy: 0.9671 - lr: 3.6883e-05\n",
            "Epoch 35/50\n",
            "107/107 [==============================] - ETA: 0s - loss: 0.0317 - accuracy: 0.9912\n",
            "Epoch 35: val_accuracy did not improve from 0.96948\n",
            "107/107 [==============================] - 175s 2s/step - loss: 0.0317 - accuracy: 0.9912 - val_loss: 0.0908 - val_accuracy: 0.9648 - lr: 3.3373e-05\n",
            "Epoch 35: early stopping\n"
          ]
        }
      ],
      "source": [
        "model,history = train_model(model, X_train, y_train, X_valid, y_valid, save_to= './', epoch = 50) "
      ]
    },
    {
      "cell_type": "code",
      "execution_count": null,
      "metadata": {
        "id": "KlHmJNLj3izT"
      },
      "outputs": [],
      "source": [
        "saved_model = tf.keras.models.load_model('EEG_Emotion_Predictor.h5')"
      ]
    },
    {
      "cell_type": "markdown",
      "metadata": {
        "id": "icPnYyWh5fjm"
      },
      "source": [
        "#### Got model with a good training accuracy using an RNN structure in Keras. "
      ]
    },
    {
      "cell_type": "markdown",
      "metadata": {
        "id": "pw9wbCGK5pUM"
      },
      "source": [
        "# Model Evaluation\n",
        "\n",
        "> Evaluate model progress with graphs & reports"
      ]
    },
    {
      "cell_type": "code",
      "execution_count": null,
      "metadata": {
        "id": "DuzrGD4F5-K3",
        "colab": {
          "base_uri": "https://localhost:8080/",
          "height": 573
        },
        "outputId": "39e33d60-3e1d-4982-935c-f4228ffc6412"
      },
      "outputs": [
        {
          "output_type": "display_data",
          "data": {
            "text/plain": [
              "<Figure size 432x288 with 1 Axes>"
            ],
            "image/png": "[encoded data removed]"
          },
          "metadata": {
            "needs_background": "light"
          }
        },
        {
          "output_type": "display_data",
          "data": {
            "text/plain": [
              "<Figure size 432x288 with 1 Axes>"
            ],
            "image/png": "[encoded data removed]"
          },
          "metadata": {
            "needs_background": "light"
          }
        }
      ],
      "source": [
        "# Plot graphs \n",
        "plt.plot(history.history['accuracy'])\n",
        "plt.plot(history.history['val_accuracy'])\n",
        "plt.title('EEG Emotion Model Accuracy')\n",
        "plt.ylabel('accuracy')\n",
        "plt.xlabel('epoch')\n",
        "plt.legend(['train', 'test'], loc='upper left')\n",
        "plt.show()\n",
        "# summarize history for loss\n",
        "plt.plot(history.history['loss'])\n",
        "plt.plot(history.history['val_loss'])\n",
        "plt.title('model loss')\n",
        "plt.ylabel('loss')\n",
        "plt.xlabel('epoch')\n",
        "plt.legend(['train', 'test'], loc='upper left')\n",
        "plt.show()"
      ]
    },
    {
      "cell_type": "code",
      "execution_count": null,
      "metadata": {
        "colab": {
          "base_uri": "https://localhost:8080/"
        },
        "id": "QLEL57uS6TgW",
        "outputId": "f8f62aac-b00b-4a36-c7f9-f45dca0a074f"
      },
      "outputs": [
        {
          "output_type": "stream",
          "name": "stdout",
          "text": [
            "Test Accuracy: 98.12646508216858\n"
          ]
        }
      ],
      "source": [
        "# Overall test accuracy\n",
        "model_acc = model.evaluate(X_test, y_test, verbose=0)[1]\n",
        "print(\"Test Accuracy: {}\".format(model_acc * 100))"
      ]
    },
    {
      "cell_type": "code",
      "execution_count": null,
      "metadata": {
        "id": "pX4snJMW6cH-",
        "colab": {
          "base_uri": "https://localhost:8080/",
          "height": 513
        },
        "outputId": "63c5da32-054b-4783-d764-b91e756fe330"
      },
      "outputs": [
        {
          "output_type": "display_data",
          "data": {
            "text/plain": [
              "<Figure size 576x576 with 1 Axes>"
            ],
            "image/png": "[encoded data removed]"
          },
          "metadata": {
            "needs_background": "light"
          }
        }
      ],
      "source": [
        "# Confusion Matrix\n",
        "y_pred = np.array(list(map(lambda x: np.argmax(x), model.predict(X_test))))\n",
        "y_test = y_test.idxmax(axis=1)\n",
        "\n",
        "matrix = sklearn.metrics.confusion_matrix(y_test, y_pred)\n",
        "plt.figure(figsize=(8, 8))\n",
        "seaborn.heatmap(matrix, annot=True, vmin=0, fmt='g', cbar=False, cmap='Blues')\n",
        "plt.xlabel(\"Predicted\")\n",
        "plt.ylabel(\"Actual\")\n",
        "plt.title(\"Confusion Matrix\")\n",
        "plt.show()"
      ]
    }
  ],
  "metadata": {
    "colab": {
      "collapsed_sections": [
        "bI-dsU__BrlQ"
      ],
      "provenance": []
    },
    "kernelspec": {
      "display_name": "Python 3",
      "name": "python3"
    },
    "language_info": {
      "name": "python"
    }
  },
  "nbformat": 4,
  "nbformat_minor": 0
}